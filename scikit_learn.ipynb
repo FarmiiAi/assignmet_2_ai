{
 "cells": [
  {
   "cell_type": "code",
   "execution_count": 3,
   "id": "d62b614e",
   "metadata": {
    "scrolled": true
   },
   "outputs": [
    {
     "name": "stdout",
     "output_type": "stream",
     "text": [
      "Requirement already satisfied: scikit-learn in c:\\users\\dell\\anaconda3\\lib\\site-packages (1.4.2)\n",
      "Requirement already satisfied: scipy>=1.6.0 in c:\\users\\dell\\anaconda3\\lib\\site-packages (from scikit-learn) (1.9.1)\n",
      "Requirement already satisfied: threadpoolctl>=2.0.0 in c:\\users\\dell\\anaconda3\\lib\\site-packages (from scikit-learn) (2.2.0)\n",
      "Requirement already satisfied: joblib>=1.2.0 in c:\\users\\dell\\anaconda3\\lib\\site-packages (from scikit-learn) (1.4.2)\n",
      "Requirement already satisfied: numpy>=1.19.5 in c:\\users\\dell\\anaconda3\\lib\\site-packages (from scikit-learn) (1.21.5)\n",
      "Collecting polars\n",
      "  Downloading polars-0.20.25-cp38-abi3-win_amd64.whl (27.3 MB)\n",
      "     ---------------------------------------- 27.3/27.3 MB 5.2 MB/s eta 0:00:00\n",
      "Installing collected packages: polars\n",
      "Successfully installed polars-0.20.25\n"
     ]
    }
   ],
   "source": [
    "!pip install -U scikit-learn\n",
    "!pip install polars "
   ]
  },
  {
   "cell_type": "markdown",
   "id": "3aa55401",
   "metadata": {},
   "source": [
    "# This is the scikit learn code"
   ]
  },
  {
   "cell_type": "code",
   "execution_count": 4,
   "id": "2a916553",
   "metadata": {},
   "outputs": [
    {
     "data": {
      "text/html": [
       "<div><style>\n",
       ".dataframe > thead > tr,\n",
       ".dataframe > tbody > tr {\n",
       "  text-align: right;\n",
       "  white-space: pre-wrap;\n",
       "}\n",
       "</style>\n",
       "<small>shape: (5, 3)</small><table border=\"1\" class=\"dataframe\"><thead><tr><th>height</th><th>pet_cat</th><th>pet_dog</th></tr><tr><td>f64</td><td>f64</td><td>f64</td></tr></thead><tbody><tr><td>-0.215666</td><td>0.0</td><td>1.0</td></tr><tr><td>0.862662</td><td>1.0</td><td>0.0</td></tr><tr><td>1.401826</td><td>0.0</td><td>1.0</td></tr><tr><td>-0.754829</td><td>1.0</td><td>0.0</td></tr><tr><td>-1.293993</td><td>1.0</td><td>0.0</td></tr></tbody></table></div>"
      ],
      "text/plain": [
       "shape: (5, 3)\n",
       "┌───────────┬─────────┬─────────┐\n",
       "│ height    ┆ pet_cat ┆ pet_dog │\n",
       "│ ---       ┆ ---     ┆ ---     │\n",
       "│ f64       ┆ f64     ┆ f64     │\n",
       "╞═══════════╪═════════╪═════════╡\n",
       "│ -0.215666 ┆ 0.0     ┆ 1.0     │\n",
       "│ 0.862662  ┆ 1.0     ┆ 0.0     │\n",
       "│ 1.401826  ┆ 0.0     ┆ 1.0     │\n",
       "│ -0.754829 ┆ 1.0     ┆ 0.0     │\n",
       "│ -1.293993 ┆ 1.0     ┆ 0.0     │\n",
       "└───────────┴─────────┴─────────┘"
      ]
     },
     "execution_count": 4,
     "metadata": {},
     "output_type": "execute_result"
    }
   ],
   "source": [
    "import polars as pl\n",
    "from sklearn.preprocessing import StandardScaler\n",
    "from sklearn.preprocessing import OneHotEncoder\n",
    "from sklearn.compose import ColumnTransformer\n",
    "\n",
    "df = pl.DataFrame(\n",
    "    {\"height\": [120, 140, 150, 110, 100], \"pet\": [\"dog\", \"cat\", \"dog\", \"cat\", \"cat\"]}\n",
    ")\n",
    "preprocessor = ColumnTransformer(\n",
    "    [\n",
    "        (\"numerical\", StandardScaler(), [\"height\"]),\n",
    "        (\"categorical\", OneHotEncoder(sparse_output=False), [\"pet\"]),\n",
    "    ],\n",
    "    verbose_feature_names_out=False,\n",
    ")\n",
    "preprocessor.set_output(transform=\"polars\")\n",
    "\n",
    "df_out = preprocessor.fit_transform(df)\n",
    "df_out"
   ]
  },
  {
   "cell_type": "markdown",
   "id": "b1d869c3",
   "metadata": {},
   "source": [
    "# This is the result of the above code"
   ]
  },
  {
   "cell_type": "code",
   "execution_count": null,
   "id": "08b6f0d7",
   "metadata": {},
   "outputs": [],
   "source": []
  }
 ],
 "metadata": {
  "kernelspec": {
   "display_name": "Python 3 (ipykernel)",
   "language": "python",
   "name": "python3"
  },
  "language_info": {
   "codemirror_mode": {
    "name": "ipython",
    "version": 3
   },
   "file_extension": ".py",
   "mimetype": "text/x-python",
   "name": "python",
   "nbconvert_exporter": "python",
   "pygments_lexer": "ipython3",
   "version": "3.9.13"
  }
 },
 "nbformat": 4,
 "nbformat_minor": 5
}
