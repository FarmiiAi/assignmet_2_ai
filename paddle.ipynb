{
 "cells": [
  {
   "cell_type": "markdown",
   "id": "5ea86e8b",
   "metadata": {},
   "source": [
    "# This is the paddle paddle  code"
   ]
  },
  {
   "cell_type": "code",
   "execution_count": 1,
   "id": "4837786a",
   "metadata": {},
   "outputs": [
    {
     "name": "stdout",
     "output_type": "stream",
     "text": [
      "Tensor(shape=[3], dtype=float32, place=Place(cpu), stop_gradient=True,\n",
      "       [2., 3., 4.])\n"
     ]
    }
   ],
   "source": [
    "# create **1-D Tensor** like matrix\n",
    "import paddle # The following sample code has imported the paddle module by default\n",
    "ndim_1_tensor = paddle.to_tensor([2.0, 3.0, 4.0])\n",
    "print(ndim_1_tensor)"
   ]
  },
  {
   "cell_type": "markdown",
   "id": "0c66e8d1",
   "metadata": {},
   "source": [
    "# This is the result of the above code"
   ]
  }
 ],
 "metadata": {
  "kernelspec": {
   "display_name": "Python 3 (ipykernel)",
   "language": "python",
   "name": "python3"
  },
  "language_info": {
   "codemirror_mode": {
    "name": "ipython",
    "version": 3
   },
   "file_extension": ".py",
   "mimetype": "text/x-python",
   "name": "python",
   "nbconvert_exporter": "python",
   "pygments_lexer": "ipython3",
   "version": "3.9.13"
  }
 },
 "nbformat": 4,
 "nbformat_minor": 5
}
